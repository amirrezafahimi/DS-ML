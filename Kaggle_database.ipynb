{
 "cells": [
  {
   "cell_type": "code",
   "execution_count": 1,
   "metadata": {},
   "outputs": [
    {
     "name": "stderr",
     "output_type": "stream",
     "text": [
      "C:\\Users\\amir\\Anaconda3\\lib\\site-packages\\h5py\\__init__.py:36: FutureWarning: Conversion of the second argument of issubdtype from `float` to `np.floating` is deprecated. In future, it will be treated as `np.float64 == np.dtype(float).type`.\n",
      "  from ._conv import register_converters as _register_converters\n"
     ]
    }
   ],
   "source": [
    "import numpy as np\n",
    "import pandas as pd\n",
    "import matplotlib.pyplot as plt\n",
    "import seaborn as sns\n",
    "\n",
    "import tensorflow as tf\n",
    "from tensorflow import keras\n",
    "from tensorflow.keras import layers"
   ]
  },
  {
   "cell_type": "code",
   "execution_count": 2,
   "metadata": {},
   "outputs": [],
   "source": [
    "from plotly.offline import iplot, init_notebook_mode\n",
    "import plotly.graph_objs as go\n",
    "import plotly.io as pio\n"
   ]
  },
  {
   "cell_type": "code",
   "execution_count": 3,
   "metadata": {},
   "outputs": [
    {
     "name": "stdout",
     "output_type": "stream",
     "text": [
      "3.8.0\n"
     ]
    }
   ],
   "source": [
    "from plotly import __version__\n",
    "from plotly.offline import download_plotlyjs, init_notebook_mode, plot, iplot\n",
    "\n",
    "print(__version__) # requires version >= 1.9.0"
   ]
  },
  {
   "cell_type": "code",
   "execution_count": 13,
   "metadata": {},
   "outputs": [
    {
     "data": {
      "text/html": [
       "        <script type=\"text/javascript\">\n",
       "        window.PlotlyConfig = {MathJaxConfig: 'local'};\n",
       "        if (window.MathJax) {MathJax.Hub.Config({SVG: {font: \"STIX-Web\"}});}\n",
       "        if (typeof require !== 'undefined') {\n",
       "        require.undef(\"plotly\");\n",
       "        requirejs.config({\n",
       "            paths: {\n",
       "                'plotly': ['https://cdn.plot.ly/plotly-latest.min']\n",
       "            }\n",
       "        });\n",
       "        require(['plotly'], function(Plotly) {\n",
       "            window._Plotly = Plotly;\n",
       "        });\n",
       "        }\n",
       "        </script>\n",
       "        "
      ]
     },
     "metadata": {},
     "output_type": "display_data"
    }
   ],
   "source": [
    "init_notebook_mode(connected=True)"
   ]
  },
  {
   "cell_type": "code",
   "execution_count": 14,
   "metadata": {},
   "outputs": [],
   "source": [
    "import cufflinks as cf"
   ]
  },
  {
   "cell_type": "code",
   "execution_count": 15,
   "metadata": {},
   "outputs": [
    {
     "data": {
      "text/html": [
       "        <script type=\"text/javascript\">\n",
       "        window.PlotlyConfig = {MathJaxConfig: 'local'};\n",
       "        if (window.MathJax) {MathJax.Hub.Config({SVG: {font: \"STIX-Web\"}});}\n",
       "        if (typeof require !== 'undefined') {\n",
       "        require.undef(\"plotly\");\n",
       "        requirejs.config({\n",
       "            paths: {\n",
       "                'plotly': ['https://cdn.plot.ly/plotly-latest.min']\n",
       "            }\n",
       "        });\n",
       "        require(['plotly'], function(Plotly) {\n",
       "            window._Plotly = Plotly;\n",
       "        });\n",
       "        }\n",
       "        </script>\n",
       "        "
      ]
     },
     "metadata": {},
     "output_type": "display_data"
    }
   ],
   "source": [
    "# For offline use\n",
    "cf.go_offline()"
   ]
  },
  {
   "cell_type": "code",
   "execution_count": null,
   "metadata": {},
   "outputs": [],
   "source": []
  },
  {
   "cell_type": "code",
   "execution_count": 5,
   "metadata": {},
   "outputs": [],
   "source": [
    "movies_data = pd.read_csv('F:\\\\IMDb Data\\\\Kaggle Data\\\\main_data\\\\movies_data.csv')\n",
    "\n",
    "genres_data = pd.read_csv('F:\\\\IMDb Data\\\\Kaggle Data\\\\main_data\\\\genres_data.csv')\n",
    "\n",
    "directors_data = pd.read_csv('F:\\\\IMDb Data\\\\Kaggle Data\\\\main_data\\\\directors_data.csv')\n",
    "writers_data = pd.read_csv('F:\\\\IMDb Data\\\\Kaggle Data\\\\main_data\\\\writers_data.csv')\n",
    "producers_data = pd.read_csv('F:\\\\IMDb Data\\\\Kaggle Data\\\\main_data\\\\producers_data.csv')\n",
    "actors_data = pd.read_csv('F:\\\\IMDb Data\\\\Kaggle Data\\\\main_data\\\\actors_data.csv')\n",
    "cinematographers_data = pd.read_csv('F:\\\\IMDb Data\\\\Kaggle Data\\\\main_data\\\\cinematographers_data.csv')\n",
    "editors_data = pd.read_csv('F:\\\\IMDb Data\\\\Kaggle Data\\\\main_data\\\\editors_data.csv')\n",
    "composers_data = pd.read_csv('F:\\\\IMDb Data\\\\Kaggle Data\\\\main_data\\\\composers_data.csv')"
   ]
  },
  {
   "cell_type": "code",
   "execution_count": 48,
   "metadata": {},
   "outputs": [
    {
     "name": "stderr",
     "output_type": "stream",
     "text": [
      "C:\\Users\\amir\\Anaconda3\\lib\\site-packages\\IPython\\core\\interactiveshell.py:2785: DtypeWarning:\n",
      "\n",
      "Columns (7) have mixed types. Specify dtype option on import or set low_memory=False.\n",
      "\n"
     ]
    }
   ],
   "source": [
    "kaggle_data = pd.read_csv('F:\\\\IMDb Data\\\\Kaggle350\\\\AllMoviesDetailsCleaned.csv', sep=';')"
   ]
  },
  {
   "cell_type": "code",
   "execution_count": 7,
   "metadata": {},
   "outputs": [],
   "source": [
    "kaggle_dataset = kaggle_data[['imdb_id', 'budget', 'revenue']]"
   ]
  },
  {
   "cell_type": "code",
   "execution_count": 8,
   "metadata": {},
   "outputs": [],
   "source": [
    "kaggle_dataset = kaggle_dataset[kaggle_dataset['budget'] != 0]\n",
    "kaggle_dataset = kaggle_dataset[kaggle_dataset['revenue'] != 0]\n",
    "kaggle_dataset = kaggle_dataset.set_index('imdb_id')"
   ]
  },
  {
   "cell_type": "code",
   "execution_count": 9,
   "metadata": {},
   "outputs": [],
   "source": [
    "d = movies_data\n",
    "d = movies_data[movies_data['startYear'] > 2000]\n",
    "#d = d[d['numVotes'] > 10]\n",
    "#d = d[d['numVotes'] < 100000]"
   ]
  },
  {
   "cell_type": "code",
   "execution_count": null,
   "metadata": {},
   "outputs": [],
   "source": []
  },
  {
   "cell_type": "code",
   "execution_count": 19,
   "metadata": {},
   "outputs": [],
   "source": [
    "data = d.set_index('tconst')\n",
    "data = data.join(genres_data.set_index('tconst'), how='inner')\n",
    "\n",
    "data = data.join(directors_data.set_index('tconst'), how='inner')\n",
    "#data = data.join(writers_data.set_index('tconst'), how='inner')\n",
    "#data = data.join(producers_data.set_index('tconst'), how='inner')\n",
    "data = data.join(actors_data.set_index('tconst'), how='inner')\n",
    "#data = data.join(cinematographers_data.set_index('tconst'), how='inner')\n",
    "#data = data.join(editors_data.set_index('tconst'), how='inner')\n",
    "#data = data.join(composers_data.set_index('tconst'), how='inner')\n",
    "\n",
    "data = data.join(kaggle_dataset, how='inner')\n"
   ]
  },
  {
   "cell_type": "code",
   "execution_count": 22,
   "metadata": {},
   "outputs": [],
   "source": [
    "data_new = data.set_index('startYear')\n",
    "data_new = data_new.sort_index()"
   ]
  },
  {
   "cell_type": "code",
   "execution_count": 23,
   "metadata": {},
   "outputs": [
    {
     "data": {
      "text/html": [
       "<div>\n",
       "<style scoped>\n",
       "    .dataframe tbody tr th:only-of-type {\n",
       "        vertical-align: middle;\n",
       "    }\n",
       "\n",
       "    .dataframe tbody tr th {\n",
       "        vertical-align: top;\n",
       "    }\n",
       "\n",
       "    .dataframe thead th {\n",
       "        text-align: right;\n",
       "    }\n",
       "</style>\n",
       "<table border=\"1\" class=\"dataframe\">\n",
       "  <thead>\n",
       "    <tr style=\"text-align: right;\">\n",
       "      <th></th>\n",
       "      <th>primaryTitle</th>\n",
       "      <th>isAdult</th>\n",
       "      <th>runtimeMinutes</th>\n",
       "      <th>genres</th>\n",
       "      <th>averageRating</th>\n",
       "      <th>numVotes</th>\n",
       "      <th>is_War</th>\n",
       "      <th>is_Short</th>\n",
       "      <th>is_Musical</th>\n",
       "      <th>is_Biography</th>\n",
       "      <th>...</th>\n",
       "      <th>is_Romance</th>\n",
       "      <th>is_Talk-Show</th>\n",
       "      <th>is_Thriller</th>\n",
       "      <th>is_Game-Show</th>\n",
       "      <th>average_number_of_directors_other_works</th>\n",
       "      <th>directors_rating</th>\n",
       "      <th>average_number_of_actors_other_works</th>\n",
       "      <th>actors_rating</th>\n",
       "      <th>budget</th>\n",
       "      <th>revenue</th>\n",
       "    </tr>\n",
       "    <tr>\n",
       "      <th>startYear</th>\n",
       "      <th></th>\n",
       "      <th></th>\n",
       "      <th></th>\n",
       "      <th></th>\n",
       "      <th></th>\n",
       "      <th></th>\n",
       "      <th></th>\n",
       "      <th></th>\n",
       "      <th></th>\n",
       "      <th></th>\n",
       "      <th></th>\n",
       "      <th></th>\n",
       "      <th></th>\n",
       "      <th></th>\n",
       "      <th></th>\n",
       "      <th></th>\n",
       "      <th></th>\n",
       "      <th></th>\n",
       "      <th></th>\n",
       "      <th></th>\n",
       "      <th></th>\n",
       "    </tr>\n",
       "  </thead>\n",
       "  <tbody>\n",
       "    <tr>\n",
       "      <th>2001</th>\n",
       "      <td>Glitter</td>\n",
       "      <td>0</td>\n",
       "      <td>104</td>\n",
       "      <td>Drama,Music,Romance</td>\n",
       "      <td>2.2</td>\n",
       "      <td>20708.0</td>\n",
       "      <td>0</td>\n",
       "      <td>0</td>\n",
       "      <td>0</td>\n",
       "      <td>0</td>\n",
       "      <td>...</td>\n",
       "      <td>1</td>\n",
       "      <td>0</td>\n",
       "      <td>0</td>\n",
       "      <td>0</td>\n",
       "      <td>2.0</td>\n",
       "      <td>6.450000</td>\n",
       "      <td>4.666667</td>\n",
       "      <td>5.525926</td>\n",
       "      <td>22000000</td>\n",
       "      <td>5271666</td>\n",
       "    </tr>\n",
       "    <tr>\n",
       "      <th>2001</th>\n",
       "      <td>Metropolis</td>\n",
       "      <td>0</td>\n",
       "      <td>108</td>\n",
       "      <td>Adventure,Animation,Drama</td>\n",
       "      <td>7.3</td>\n",
       "      <td>18918.0</td>\n",
       "      <td>0</td>\n",
       "      <td>0</td>\n",
       "      <td>0</td>\n",
       "      <td>0</td>\n",
       "      <td>...</td>\n",
       "      <td>0</td>\n",
       "      <td>0</td>\n",
       "      <td>0</td>\n",
       "      <td>0</td>\n",
       "      <td>8.0</td>\n",
       "      <td>6.612500</td>\n",
       "      <td>15.500000</td>\n",
       "      <td>6.632759</td>\n",
       "      <td>14500000</td>\n",
       "      <td>95789342</td>\n",
       "    </tr>\n",
       "    <tr>\n",
       "      <th>2001</th>\n",
       "      <td>Bridget Jones's Diary</td>\n",
       "      <td>0</td>\n",
       "      <td>97</td>\n",
       "      <td>Comedy,Drama,Romance</td>\n",
       "      <td>6.7</td>\n",
       "      <td>204806.0</td>\n",
       "      <td>0</td>\n",
       "      <td>0</td>\n",
       "      <td>0</td>\n",
       "      <td>0</td>\n",
       "      <td>...</td>\n",
       "      <td>1</td>\n",
       "      <td>0</td>\n",
       "      <td>0</td>\n",
       "      <td>0</td>\n",
       "      <td>2.0</td>\n",
       "      <td>6.200000</td>\n",
       "      <td>28.500000</td>\n",
       "      <td>6.347016</td>\n",
       "      <td>25000000</td>\n",
       "      <td>281929795</td>\n",
       "    </tr>\n",
       "    <tr>\n",
       "      <th>2001</th>\n",
       "      <td>Wet Hot American Summer</td>\n",
       "      <td>0</td>\n",
       "      <td>97</td>\n",
       "      <td>Comedy,Romance</td>\n",
       "      <td>6.7</td>\n",
       "      <td>49407.0</td>\n",
       "      <td>0</td>\n",
       "      <td>0</td>\n",
       "      <td>0</td>\n",
       "      <td>0</td>\n",
       "      <td>...</td>\n",
       "      <td>1</td>\n",
       "      <td>0</td>\n",
       "      <td>0</td>\n",
       "      <td>0</td>\n",
       "      <td>5.0</td>\n",
       "      <td>5.960000</td>\n",
       "      <td>12.500000</td>\n",
       "      <td>6.093981</td>\n",
       "      <td>5000000</td>\n",
       "      <td>295206</td>\n",
       "    </tr>\n",
       "    <tr>\n",
       "      <th>2001</th>\n",
       "      <td>American Outlaws</td>\n",
       "      <td>0</td>\n",
       "      <td>94</td>\n",
       "      <td>Action,Western</td>\n",
       "      <td>6.0</td>\n",
       "      <td>13114.0</td>\n",
       "      <td>0</td>\n",
       "      <td>0</td>\n",
       "      <td>0</td>\n",
       "      <td>0</td>\n",
       "      <td>...</td>\n",
       "      <td>0</td>\n",
       "      <td>0</td>\n",
       "      <td>0</td>\n",
       "      <td>0</td>\n",
       "      <td>6.0</td>\n",
       "      <td>5.633333</td>\n",
       "      <td>17.750000</td>\n",
       "      <td>5.923718</td>\n",
       "      <td>35000000</td>\n",
       "      <td>13678913</td>\n",
       "    </tr>\n",
       "  </tbody>\n",
       "</table>\n",
       "<p>5 rows × 40 columns</p>\n",
       "</div>"
      ],
      "text/plain": [
       "                      primaryTitle  isAdult  runtimeMinutes  \\\n",
       "startYear                                                     \n",
       "2001                       Glitter        0             104   \n",
       "2001                    Metropolis        0             108   \n",
       "2001         Bridget Jones's Diary        0              97   \n",
       "2001       Wet Hot American Summer        0              97   \n",
       "2001              American Outlaws        0              94   \n",
       "\n",
       "                              genres  averageRating  numVotes  is_War  \\\n",
       "startYear                                                               \n",
       "2001             Drama,Music,Romance            2.2   20708.0       0   \n",
       "2001       Adventure,Animation,Drama            7.3   18918.0       0   \n",
       "2001            Comedy,Drama,Romance            6.7  204806.0       0   \n",
       "2001                  Comedy,Romance            6.7   49407.0       0   \n",
       "2001                  Action,Western            6.0   13114.0       0   \n",
       "\n",
       "           is_Short  is_Musical  is_Biography  ...  is_Romance  is_Talk-Show  \\\n",
       "startYear                                      ...                             \n",
       "2001              0           0             0  ...           1             0   \n",
       "2001              0           0             0  ...           0             0   \n",
       "2001              0           0             0  ...           1             0   \n",
       "2001              0           0             0  ...           1             0   \n",
       "2001              0           0             0  ...           0             0   \n",
       "\n",
       "           is_Thriller  is_Game-Show  average_number_of_directors_other_works  \\\n",
       "startYear                                                                       \n",
       "2001                 0             0                                      2.0   \n",
       "2001                 0             0                                      8.0   \n",
       "2001                 0             0                                      2.0   \n",
       "2001                 0             0                                      5.0   \n",
       "2001                 0             0                                      6.0   \n",
       "\n",
       "           directors_rating  average_number_of_actors_other_works  \\\n",
       "startYear                                                           \n",
       "2001               6.450000                              4.666667   \n",
       "2001               6.612500                             15.500000   \n",
       "2001               6.200000                             28.500000   \n",
       "2001               5.960000                             12.500000   \n",
       "2001               5.633333                             17.750000   \n",
       "\n",
       "           actors_rating    budget    revenue  \n",
       "startYear                                      \n",
       "2001            5.525926  22000000    5271666  \n",
       "2001            6.632759  14500000   95789342  \n",
       "2001            6.347016  25000000  281929795  \n",
       "2001            6.093981   5000000     295206  \n",
       "2001            5.923718  35000000   13678913  \n",
       "\n",
       "[5 rows x 40 columns]"
      ]
     },
     "execution_count": 23,
     "metadata": {},
     "output_type": "execute_result"
    }
   ],
   "source": [
    "data_new.head()"
   ]
  },
  {
   "cell_type": "code",
   "execution_count": 11,
   "metadata": {},
   "outputs": [
    {
     "name": "stdout",
     "output_type": "stream",
     "text": [
      "<class 'pandas.core.frame.DataFrame'>\n",
      "Index: 3056 entries, tt0118589 to tt6673840\n",
      "Data columns (total 41 columns):\n",
      "primaryTitle                               3056 non-null object\n",
      "isAdult                                    3056 non-null int64\n",
      "startYear                                  3056 non-null int64\n",
      "runtimeMinutes                             3056 non-null int64\n",
      "genres                                     3056 non-null object\n",
      "averageRating                              3056 non-null float64\n",
      "numVotes                                   3056 non-null float64\n",
      "is_War                                     3056 non-null int64\n",
      "is_Short                                   3056 non-null int64\n",
      "is_Musical                                 3056 non-null int64\n",
      "is_Biography                               3056 non-null int64\n",
      "is_Sport                                   3056 non-null int64\n",
      "is_Documentary                             3056 non-null int64\n",
      "is_Reality-TV                              3056 non-null int64\n",
      "is_Comedy                                  3056 non-null int64\n",
      "is_News                                    3056 non-null int64\n",
      "is_Drama                                   3056 non-null int64\n",
      "is_Adventure                               3056 non-null int64\n",
      "is_Fantasy                                 3056 non-null int64\n",
      "is_Mystery                                 3056 non-null int64\n",
      "is_Adult                                   3056 non-null int64\n",
      "is_Animation                               3056 non-null int64\n",
      "is_History                                 3056 non-null int64\n",
      "is_Music                                   3056 non-null int64\n",
      "is_Action                                  3056 non-null int64\n",
      "is_Crime                                   3056 non-null int64\n",
      "is_Film-Noir                               3056 non-null int64\n",
      "is_Western                                 3056 non-null int64\n",
      "is_Horror                                  3056 non-null int64\n",
      "is_Sci-Fi                                  3056 non-null int64\n",
      "is_Family                                  3056 non-null int64\n",
      "is_Romance                                 3056 non-null int64\n",
      "is_Talk-Show                               3056 non-null int64\n",
      "is_Thriller                                3056 non-null int64\n",
      "is_Game-Show                               3056 non-null int64\n",
      "average_number_of_directors_other_works    3056 non-null float64\n",
      "directors_rating                           3056 non-null float64\n",
      "average_number_of_actors_other_works       3056 non-null float64\n",
      "actors_rating                              3056 non-null float64\n",
      "budget                                     3056 non-null int64\n",
      "revenue                                    3056 non-null int64\n",
      "dtypes: float64(6), int64(33), object(2)\n",
      "memory usage: 1002.8+ KB\n"
     ]
    }
   ],
   "source": [
    "data.info()"
   ]
  },
  {
   "cell_type": "code",
   "execution_count": 35,
   "metadata": {},
   "outputs": [],
   "source": [
    "new = data_new.groupby('is_Action')[['revenue', 'budget']]"
   ]
  },
  {
   "cell_type": "code",
   "execution_count": 44,
   "metadata": {},
   "outputs": [
    {
     "data": {
      "text/plain": [
       "<matplotlib.axes._subplots.AxesSubplot at 0x149d52d5860>"
      ]
     },
     "execution_count": 44,
     "metadata": {},
     "output_type": "execute_result"
    },
    {
     "data": {
      "image/png": "[encoded data removed]",
      "text/plain": [
       "<Figure size 432x288 with 1 Axes>"
      ]
     },
     "metadata": {},
     "output_type": "display_data"
    }
   ],
   "source": [
    "data_new[['revenue', 'budget']].plot(kind='')"
   ]
  },
  {
   "cell_type": "code",
   "execution_count": 51,
   "metadata": {},
   "outputs": [
    {
     "name": "stdout",
     "output_type": "stream",
     "text": [
      "<class 'pandas.core.frame.DataFrame'>\n",
      "RangeIndex: 329044 entries, 0 to 329043\n",
      "Data columns (total 22 columns):\n",
      "id                             329044 non-null int64\n",
      "budget                         329044 non-null int64\n",
      "genres                         207515 non-null object\n",
      "imdb_id                        250564 non-null object\n",
      "original_language              328841 non-null object\n",
      "original_title                 329043 non-null object\n",
      "overview                       278060 non-null object\n",
      "popularity                     329044 non-null object\n",
      "production_companies           329044 non-null object\n",
      "production_countries           329044 non-null object\n",
      "release_date                   304998 non-null object\n",
      "revenue                        329044 non-null int64\n",
      "runtime                        292252 non-null float64\n",
      "spoken_languages               324584 non-null object\n",
      "status                         327056 non-null object\n",
      "tagline                        52931 non-null object\n",
      "title                          329043 non-null object\n",
      "vote_average                   329044 non-null float64\n",
      "vote_count                     329044 non-null int64\n",
      "production_companies_number    329044 non-null int64\n",
      "production_countries_number    329044 non-null int64\n",
      "spoken_languages_number        329044 non-null int64\n",
      "dtypes: float64(2), int64(7), object(13)\n",
      "memory usage: 55.2+ MB\n"
     ]
    }
   ],
   "source": [
    "kaggle_data.info()"
   ]
  },
  {
   "cell_type": "code",
   "execution_count": null,
   "metadata": {},
   "outputs": [],
   "source": []
  },
  {
   "cell_type": "code",
   "execution_count": null,
   "metadata": {},
   "outputs": [],
   "source": []
  },
  {
   "cell_type": "code",
   "execution_count": null,
   "metadata": {},
   "outputs": [],
   "source": []
  },
  {
   "cell_type": "code",
   "execution_count": null,
   "metadata": {},
   "outputs": [],
   "source": []
  },
  {
   "cell_type": "code",
   "execution_count": null,
   "metadata": {},
   "outputs": [],
   "source": []
  }
 ],
 "metadata": {
  "kernelspec": {
   "display_name": "Python 3",
   "language": "python",
   "name": "python3"
  },
  "language_info": {
   "codemirror_mode": {
    "name": "ipython",
    "version": 3
   },
   "file_extension": ".py",
   "mimetype": "text/x-python",
   "name": "python",
   "nbconvert_exporter": "python",
   "pygments_lexer": "ipython3",
   "version": "3.6.5"
  }
 },
 "nbformat": 4,
 "nbformat_minor": 2
}
