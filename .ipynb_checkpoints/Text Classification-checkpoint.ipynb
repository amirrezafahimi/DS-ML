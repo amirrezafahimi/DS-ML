{
 "cells": [
  {
   "cell_type": "code",
   "execution_count": 1,
   "metadata": {},
   "outputs": [
    {
     "name": "stderr",
     "output_type": "stream",
     "text": [
      "C:\\Users\\amir\\Anaconda3\\lib\\site-packages\\h5py\\__init__.py:36: FutureWarning: Conversion of the second argument of issubdtype from `float` to `np.floating` is deprecated. In future, it will be treated as `np.float64 == np.dtype(float).type`.\n",
      "  from ._conv import register_converters as _register_converters\n"
     ]
    },
    {
     "name": "stdout",
     "output_type": "stream",
     "text": [
      "1.11.0\n"
     ]
    }
   ],
   "source": [
    "from __future__ import absolute_import, division, print_function\n",
    "\n",
    "import tensorflow as tf\n",
    "from tensorflow import keras\n",
    "\n",
    "import numpy as np\n",
    "\n",
    "print(tf.__version__)"
   ]
  },
  {
   "cell_type": "code",
   "execution_count": 2,
   "metadata": {},
   "outputs": [],
   "source": [
    "%matplotlib inline"
   ]
  },
  {
   "cell_type": "code",
   "execution_count": 3,
   "metadata": {},
   "outputs": [],
   "source": [
    "imdb = keras.datasets.imdb\n",
    "\n",
    "(train_data, train_labels), (test_data, test_labels) = imdb.load_data(num_words=10000)"
   ]
  },
  {
   "cell_type": "code",
   "execution_count": 4,
   "metadata": {},
   "outputs": [
    {
     "name": "stdout",
     "output_type": "stream",
     "text": [
      "Training entries: 25000, labels: 25000\n"
     ]
    }
   ],
   "source": [
    "print(\"Training entries: {}, labels: {}\".format(len(train_data), len(train_labels)))"
   ]
  },
  {
   "cell_type": "code",
   "execution_count": 5,
   "metadata": {},
   "outputs": [
    {
     "name": "stdout",
     "output_type": "stream",
     "text": [
      "Training entries: 25000, labels: 25000\n"
     ]
    }
   ],
   "source": [
    "print(\"Training entries: {}, labels: {}\".format(len(test_data), len(test_labels)))"
   ]
  },
  {
   "cell_type": "code",
   "execution_count": 6,
   "metadata": {},
   "outputs": [
    {
     "name": "stdout",
     "output_type": "stream",
     "text": [
      "[1, 14, 22, 16, 43, 530, 973, 1622, 1385, 65, 458, 4468, 66, 3941, 4, 173, 36, 256, 5, 25, 100, 43, 838, 112, 50, 670, 2, 9, 35, 480, 284, 5, 150, 4, 172, 112, 167, 2, 336, 385, 39, 4, 172, 4536, 1111, 17, 546, 38, 13, 447, 4, 192, 50, 16, 6, 147, 2025, 19, 14, 22, 4, 1920, 4613, 469, 4, 22, 71, 87, 12, 16, 43, 530, 38, 76, 15, 13, 1247, 4, 22, 17, 515, 17, 12, 16, 626, 18, 2, 5, 62, 386, 12, 8, 316, 8, 106, 5, 4, 2223, 5244, 16, 480, 66, 3785, 33, 4, 130, 12, 16, 38, 619, 5, 25, 124, 51, 36, 135, 48, 25, 1415, 33, 6, 22, 12, 215, 28, 77, 52, 5, 14, 407, 16, 82, 2, 8, 4, 107, 117, 5952, 15, 256, 4, 2, 7, 3766, 5, 723, 36, 71, 43, 530, 476, 26, 400, 317, 46, 7, 4, 2, 1029, 13, 104, 88, 4, 381, 15, 297, 98, 32, 2071, 56, 26, 141, 6, 194, 7486, 18, 4, 226, 22, 21, 134, 476, 26, 480, 5, 144, 30, 5535, 18, 51, 36, 28, 224, 92, 25, 104, 4, 226, 65, 16, 38, 1334, 88, 12, 16, 283, 5, 16, 4472, 113, 103, 32, 15, 16, 5345, 19, 178, 32]\n"
     ]
    }
   ],
   "source": [
    "print(train_data[0])"
   ]
  },
  {
   "cell_type": "code",
   "execution_count": 7,
   "metadata": {},
   "outputs": [
    {
     "data": {
      "text/plain": [
       "(218, 189)"
      ]
     },
     "execution_count": 7,
     "metadata": {},
     "output_type": "execute_result"
    }
   ],
   "source": [
    "len(train_data[0]), len(train_data[1])"
   ]
  },
  {
   "cell_type": "code",
   "execution_count": 8,
   "metadata": {},
   "outputs": [],
   "source": [
    "# A dictionary mapping words to an integer index\n",
    "word_index = imdb.get_word_index()\n",
    "\n",
    "# The first indices are reserved\n",
    "word_index = {k:(v+3) for k,v in word_index.items()} \n",
    "word_index[\"<PAD>\"] = 0\n",
    "word_index[\"<START>\"] = 1\n",
    "word_index[\"<UNK>\"] = 2  # unknown\n",
    "word_index[\"<UNUSED>\"] = 3\n",
    "\n",
    "reverse_word_index = dict([(value, key) for (key, value) in word_index.items()])\n",
    "\n",
    "def decode_review(text):\n",
    "    return ' '.join([reverse_word_index.get(i, '?') for i in text])"
   ]
  },
  {
   "cell_type": "code",
   "execution_count": 9,
   "metadata": {},
   "outputs": [
    {
     "data": {
      "text/plain": [
       "\"<START> this film was just brilliant casting location scenery story direction everyone's really suited the part they played and you could just imagine being there robert <UNK> is an amazing actor and now the same being director <UNK> father came from the same scottish island as myself so i loved the fact there was a real connection with this film the witty remarks throughout the film were great it was just brilliant so much that i bought the film as soon as it was released for <UNK> and would recommend it to everyone to watch and the fly fishing was amazing really cried at the end it was so sad and you know what they say if you cry at a film it must have been good and this definitely was also <UNK> to the two little boy's that played the <UNK> of norman and paul they were just brilliant children are often left out of the <UNK> list i think because the stars that play them all grown up are such a big profile for the whole film but these children are amazing and should be praised for what they have done don't you think the whole story was so lovely because it was true and was someone's life after all that was shared with us all\""
      ]
     },
     "execution_count": 9,
     "metadata": {},
     "output_type": "execute_result"
    }
   ],
   "source": [
    "decode_review(train_data[0])"
   ]
  },
  {
   "cell_type": "code",
   "execution_count": 13,
   "metadata": {},
   "outputs": [],
   "source": [
    "train_data = keras.preprocessing.sequence.pad_sequences(train_data,\n",
    "                                                        value=word_index[\"<PAD>\"],\n",
    "                                                        padding='post',\n",
    "                                                        maxlen=256)\n",
    "\n",
    "test_data = keras.preprocessing.sequence.pad_sequences(test_data,\n",
    "                                                       value=word_index[\"<PAD>\"],\n",
    "                                                       padding='post',\n",
    "                                                       maxlen=256)"
   ]
  },
  {
   "cell_type": "code",
   "execution_count": 14,
   "metadata": {},
   "outputs": [
    {
     "data": {
      "text/plain": [
       "(256, 256)"
      ]
     },
     "execution_count": 14,
     "metadata": {},
     "output_type": "execute_result"
    }
   ],
   "source": [
    "len(train_data[0]), len(train_data[1])"
   ]
  },
  {
   "cell_type": "code",
   "execution_count": 15,
   "metadata": {},
   "outputs": [
    {
     "name": "stdout",
     "output_type": "stream",
     "text": [
      "[   1   14   22   16   43  530  973 1622 1385   65  458 4468   66 3941\n",
      "    4  173   36  256    5   25  100   43  838  112   50  670    2    9\n",
      "   35  480  284    5  150    4  172  112  167    2  336  385   39    4\n",
      "  172 4536 1111   17  546   38   13  447    4  192   50   16    6  147\n",
      " 2025   19   14   22    4 1920 4613  469    4   22   71   87   12   16\n",
      "   43  530   38   76   15   13 1247    4   22   17  515   17   12   16\n",
      "  626   18    2    5   62  386   12    8  316    8  106    5    4 2223\n",
      " 5244   16  480   66 3785   33    4  130   12   16   38  619    5   25\n",
      "  124   51   36  135   48   25 1415   33    6   22   12  215   28   77\n",
      "   52    5   14  407   16   82    2    8    4  107  117 5952   15  256\n",
      "    4    2    7 3766    5  723   36   71   43  530  476   26  400  317\n",
      "   46    7    4    2 1029   13  104   88    4  381   15  297   98   32\n",
      " 2071   56   26  141    6  194 7486   18    4  226   22   21  134  476\n",
      "   26  480    5  144   30 5535   18   51   36   28  224   92   25  104\n",
      "    4  226   65   16   38 1334   88   12   16  283    5   16 4472  113\n",
      "  103   32   15   16 5345   19  178   32    0    0    0    0    0    0\n",
      "    0    0    0    0    0    0    0    0    0    0    0    0    0    0\n",
      "    0    0    0    0    0    0    0    0    0    0    0    0    0    0\n",
      "    0    0    0    0]\n"
     ]
    }
   ],
   "source": [
    "print(train_data[0])"
   ]
  },
  {
   "cell_type": "code",
   "execution_count": 16,
   "metadata": {},
   "outputs": [
    {
     "name": "stdout",
     "output_type": "stream",
     "text": [
      "_________________________________________________________________\n",
      "Layer (type)                 Output Shape              Param #   \n",
      "=================================================================\n",
      "embedding (Embedding)        (None, None, 16)          160000    \n",
      "_________________________________________________________________\n",
      "global_average_pooling1d (Gl (None, 16)                0         \n",
      "_________________________________________________________________\n",
      "dense (Dense)                (None, 16)                272       \n",
      "_________________________________________________________________\n",
      "dense_1 (Dense)              (None, 1)                 17        \n",
      "=================================================================\n",
      "Total params: 160,289\n",
      "Trainable params: 160,289\n",
      "Non-trainable params: 0\n",
      "_________________________________________________________________\n"
     ]
    }
   ],
   "source": [
    "# input shape is the vocabulary count used for the movie reviews (10,000 words)\n",
    "vocab_size = 10000\n",
    "\n",
    "model = keras.Sequential()\n",
    "model.add(keras.layers.Embedding(vocab_size, 16))\n",
    "model.add(keras.layers.GlobalAveragePooling1D())\n",
    "model.add(keras.layers.Dense(16, activation=tf.nn.relu))\n",
    "model.add(keras.layers.Dense(1, activation=tf.nn.sigmoid))\n",
    "\n",
    "model.summary()"
   ]
  },
  {
   "cell_type": "code",
   "execution_count": 17,
   "metadata": {},
   "outputs": [],
   "source": [
    "model.compile(optimizer='adam',\n",
    "              loss='binary_crossentropy',\n",
    "              metrics=['acc'])"
   ]
  },
  {
   "cell_type": "code",
   "execution_count": 18,
   "metadata": {},
   "outputs": [],
   "source": [
    "x_val = train_data[:10000]\n",
    "partial_x_train = train_data[10000:]\n",
    "\n",
    "y_val = train_labels[:10000]\n",
    "partial_y_train = train_labels[10000:]"
   ]
  },
  {
   "cell_type": "code",
   "execution_count": 19,
   "metadata": {},
   "outputs": [
    {
     "name": "stderr",
     "output_type": "stream",
     "text": [
      "C:\\Users\\amir\\Anaconda3\\lib\\site-packages\\tensorflow\\python\\ops\\gradients_impl.py:108: UserWarning: Converting sparse IndexedSlices to a dense Tensor of unknown shape. This may consume a large amount of memory.\n",
      "  \"Converting sparse IndexedSlices to a dense Tensor of unknown shape. \"\n"
     ]
    },
    {
     "name": "stdout",
     "output_type": "stream",
     "text": [
      "Train on 15000 samples, validate on 10000 samples\n",
      "Epoch 1/40\n",
      "15000/15000 [==============================] - 3s 173us/step - loss: 0.6920 - acc: 0.6190 - val_loss: 0.6897 - val_acc: 0.7384\n",
      "Epoch 2/40\n",
      "15000/15000 [==============================] - 2s 122us/step - loss: 0.6855 - acc: 0.7545 - val_loss: 0.6803 - val_acc: 0.7127\n",
      "Epoch 3/40\n",
      "15000/15000 [==============================] - 2s 127us/step - loss: 0.6709 - acc: 0.7617 - val_loss: 0.6615 - val_acc: 0.7576\n",
      "Epoch 4/40\n",
      "15000/15000 [==============================] - 2s 128us/step - loss: 0.6445 - acc: 0.7660 - val_loss: 0.6321 - val_acc: 0.7785\n",
      "Epoch 5/40\n",
      "15000/15000 [==============================] - 2s 117us/step - loss: 0.6062 - acc: 0.7979 - val_loss: 0.5913 - val_acc: 0.7914\n",
      "Epoch 6/40\n",
      "15000/15000 [==============================] - 2s 144us/step - loss: 0.5589 - acc: 0.8170 - val_loss: 0.5463 - val_acc: 0.8034\n",
      "Epoch 7/40\n",
      "15000/15000 [==============================] - 2s 132us/step - loss: 0.5078 - acc: 0.8351 - val_loss: 0.5003 - val_acc: 0.8233\n",
      "Epoch 8/40\n",
      "15000/15000 [==============================] - 2s 137us/step - loss: 0.4587 - acc: 0.8523 - val_loss: 0.4585 - val_acc: 0.8372\n",
      "Epoch 9/40\n",
      "15000/15000 [==============================] - 2s 117us/step - loss: 0.4154 - acc: 0.8638 - val_loss: 0.4231 - val_acc: 0.8474\n",
      "Epoch 10/40\n",
      "15000/15000 [==============================] - 2s 126us/step - loss: 0.3779 - acc: 0.8775 - val_loss: 0.3946 - val_acc: 0.8532\n",
      "Epoch 11/40\n",
      "15000/15000 [==============================] - 2s 153us/step - loss: 0.3473 - acc: 0.8849 - val_loss: 0.3739 - val_acc: 0.8590\n",
      "Epoch 12/40\n",
      "15000/15000 [==============================] - 2s 142us/step - loss: 0.3222 - acc: 0.8919 - val_loss: 0.3537 - val_acc: 0.8678\n",
      "Epoch 13/40\n",
      "15000/15000 [==============================] - 2s 117us/step - loss: 0.2993 - acc: 0.8988 - val_loss: 0.3399 - val_acc: 0.8697\n",
      "Epoch 14/40\n",
      "15000/15000 [==============================] - 2s 126us/step - loss: 0.2804 - acc: 0.9043 - val_loss: 0.3278 - val_acc: 0.8733\n",
      "Epoch 15/40\n",
      "15000/15000 [==============================] - 2s 116us/step - loss: 0.2640 - acc: 0.9091 - val_loss: 0.3185 - val_acc: 0.8760\n",
      "Epoch 16/40\n",
      "15000/15000 [==============================] - 2s 121us/step - loss: 0.2499 - acc: 0.9125 - val_loss: 0.3108 - val_acc: 0.8780\n",
      "Epoch 17/40\n",
      "15000/15000 [==============================] - 2s 119us/step - loss: 0.2362 - acc: 0.9189 - val_loss: 0.3045 - val_acc: 0.8787\n",
      "Epoch 18/40\n",
      "15000/15000 [==============================] - 2s 119us/step - loss: 0.2242 - acc: 0.9232 - val_loss: 0.2994 - val_acc: 0.8814\n",
      "Epoch 19/40\n",
      "15000/15000 [==============================] - 2s 116us/step - loss: 0.2131 - acc: 0.9273 - val_loss: 0.2955 - val_acc: 0.8822\n",
      "Epoch 20/40\n",
      "15000/15000 [==============================] - 2s 124us/step - loss: 0.2032 - acc: 0.9304 - val_loss: 0.2920 - val_acc: 0.8825\n",
      "Epoch 21/40\n",
      "15000/15000 [==============================] - 2s 137us/step - loss: 0.1936 - acc: 0.9348 - val_loss: 0.2894 - val_acc: 0.8838\n",
      "Epoch 22/40\n",
      "15000/15000 [==============================] - 2s 125us/step - loss: 0.1848 - acc: 0.9385 - val_loss: 0.2879 - val_acc: 0.8842\n",
      "Epoch 23/40\n",
      "15000/15000 [==============================] - 2s 124us/step - loss: 0.1768 - acc: 0.9417 - val_loss: 0.2869 - val_acc: 0.8843\n",
      "Epoch 24/40\n",
      "15000/15000 [==============================] - 2s 117us/step - loss: 0.1687 - acc: 0.9465 - val_loss: 0.2855 - val_acc: 0.8849\n",
      "Epoch 25/40\n",
      "15000/15000 [==============================] - 2s 119us/step - loss: 0.1617 - acc: 0.9495 - val_loss: 0.2851 - val_acc: 0.8848\n",
      "Epoch 26/40\n",
      "15000/15000 [==============================] - 2s 124us/step - loss: 0.1546 - acc: 0.9518 - val_loss: 0.2854 - val_acc: 0.8849\n",
      "Epoch 27/40\n",
      "15000/15000 [==============================] - 2s 123us/step - loss: 0.1487 - acc: 0.9538 - val_loss: 0.2864 - val_acc: 0.8847\n",
      "Epoch 28/40\n",
      "15000/15000 [==============================] - 2s 118us/step - loss: 0.1425 - acc: 0.9576 - val_loss: 0.2862 - val_acc: 0.8859\n",
      "Epoch 29/40\n",
      "15000/15000 [==============================] - 2s 119us/step - loss: 0.1367 - acc: 0.9577 - val_loss: 0.2872 - val_acc: 0.8859\n",
      "Epoch 30/40\n",
      "15000/15000 [==============================] - 2s 122us/step - loss: 0.1318 - acc: 0.9609 - val_loss: 0.2888 - val_acc: 0.8863\n",
      "Epoch 31/40\n",
      "15000/15000 [==============================] - 2s 121us/step - loss: 0.1258 - acc: 0.9633 - val_loss: 0.2905 - val_acc: 0.8860\n",
      "Epoch 32/40\n",
      "15000/15000 [==============================] - 2s 120us/step - loss: 0.1212 - acc: 0.9652 - val_loss: 0.2926 - val_acc: 0.8854\n",
      "Epoch 33/40\n",
      "15000/15000 [==============================] - 2s 121us/step - loss: 0.1158 - acc: 0.9675 - val_loss: 0.2947 - val_acc: 0.8853\n",
      "Epoch 34/40\n",
      "15000/15000 [==============================] - 2s 120us/step - loss: 0.1114 - acc: 0.9689 - val_loss: 0.2979 - val_acc: 0.8844\n",
      "Epoch 35/40\n",
      "15000/15000 [==============================] - 2s 121us/step - loss: 0.1075 - acc: 0.9707 - val_loss: 0.2996 - val_acc: 0.8843\n",
      "Epoch 36/40\n",
      "15000/15000 [==============================] - 2s 123us/step - loss: 0.1026 - acc: 0.9726 - val_loss: 0.3027 - val_acc: 0.8838\n",
      "Epoch 37/40\n",
      "15000/15000 [==============================] - 2s 120us/step - loss: 0.0988 - acc: 0.9739 - val_loss: 0.3058 - val_acc: 0.8839\n",
      "Epoch 38/40\n",
      "15000/15000 [==============================] - 2s 118us/step - loss: 0.0954 - acc: 0.9748 - val_loss: 0.3097 - val_acc: 0.8818\n",
      "Epoch 39/40\n",
      "15000/15000 [==============================] - 2s 122us/step - loss: 0.0913 - acc: 0.9766 - val_loss: 0.3119 - val_acc: 0.8823\n",
      "Epoch 40/40\n",
      "15000/15000 [==============================] - 2s 120us/step - loss: 0.0876 - acc: 0.9784 - val_loss: 0.3157 - val_acc: 0.8822\n"
     ]
    }
   ],
   "source": [
    "history = model.fit(partial_x_train,\n",
    "                    partial_y_train,\n",
    "                    epochs=40,\n",
    "                    batch_size=512,\n",
    "                    validation_data=(x_val, y_val),\n",
    "                    verbose=1)"
   ]
  },
  {
   "cell_type": "code",
   "execution_count": 20,
   "metadata": {},
   "outputs": [
    {
     "name": "stdout",
     "output_type": "stream",
     "text": [
      "25000/25000 [==============================] - 1s 47us/step\n",
      "[0.33640021097183226, 0.87236]\n"
     ]
    }
   ],
   "source": [
    "results = model.evaluate(test_data, test_labels)\n",
    "\n",
    "print(results)"
   ]
  },
  {
   "cell_type": "code",
   "execution_count": 21,
   "metadata": {},
   "outputs": [
    {
     "data": {
      "text/plain": [
       "dict_keys(['val_loss', 'val_acc', 'loss', 'acc'])"
      ]
     },
     "execution_count": 21,
     "metadata": {},
     "output_type": "execute_result"
    }
   ],
   "source": [
    "history_dict = history.history\n",
    "history_dict.keys()"
   ]
  },
  {
   "cell_type": "code",
   "execution_count": 25,
   "metadata": {},
   "outputs": [
    {
     "data": {
      "image/png": "[encoded data removed]",
      "text/plain": [
       "<Figure size 432x288 with 1 Axes>"
      ]
     },
     "metadata": {},
     "output_type": "display_data"
    }
   ],
   "source": [
    "import matplotlib.pyplot as plt\n",
    "\n",
    "acc = history_dict['acc']\n",
    "val_acc = history_dict['val_acc']\n",
    "loss = history_dict['loss']\n",
    "val_loss = history_dict['val_loss']\n",
    "\n",
    "epochs = range(1, len(acc) + 1)\n",
    "\n",
    "# \"bo\" is for \"blue dot\"\n",
    "plt.plot(epochs, loss, 'bo', label='Training loss')\n",
    "# b is for \"solid blue line\"\n",
    "plt.plot(epochs, val_loss, 'b', label='Validation loss')\n",
    "plt.title('Training and validation loss')\n",
    "plt.xlabel('Epochs')\n",
    "plt.ylabel('Loss')\n",
    "plt.legend()\n",
    "\n",
    "plt.show()"
   ]
  },
  {
   "cell_type": "code",
   "execution_count": 27,
   "metadata": {},
   "outputs": [
    {
     "data": {
      "image/png": "[encoded data removed]",
      "text/plain": [
       "<Figure size 432x288 with 1 Axes>"
      ]
     },
     "metadata": {},
     "output_type": "display_data"
    }
   ],
   "source": [
    "plt.clf()   # clear figure\n",
    "\n",
    "plt.plot(epochs, acc, 'bo', label='Training acc')\n",
    "plt.plot(epochs, val_acc, 'b', label='Validation acc')\n",
    "plt.title('Training and validation accuracy')\n",
    "plt.xlabel('Epochs')\n",
    "plt.ylabel('Accuracy')\n",
    "plt.legend()\n",
    "\n",
    "plt.show()"
   ]
  },
  {
   "cell_type": "code",
   "execution_count": null,
   "metadata": {},
   "outputs": [],
   "source": []
  }
 ],
 "metadata": {
  "kernelspec": {
   "display_name": "Python 3",
   "language": "python",
   "name": "python3"
  },
  "language_info": {
   "codemirror_mode": {
    "name": "ipython",
    "version": 3
   },
   "file_extension": ".py",
   "mimetype": "text/x-python",
   "name": "python",
   "nbconvert_exporter": "python",
   "pygments_lexer": "ipython3",
   "version": "3.6.5"
  }
 },
 "nbformat": 4,
 "nbformat_minor": 2
}
